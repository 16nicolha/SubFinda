{
 "cells": [
  {
   "cell_type": "code",
   "id": "initial_id",
   "metadata": {
    "collapsed": true,
    "ExecuteTime": {
     "end_time": "2025-07-05T23:25:33.542085Z",
     "start_time": "2025-07-05T23:25:28.024478Z"
    }
   },
   "source": [
    "from langchain_community.document_loaders import TextLoader\n",
    "from langchain_text_splitters import CharacterTextSplitter\n",
    "from langchain_openai import OpenAIEmbeddings\n",
    "from langchain_chroma import Chroma\n"
   ],
   "outputs": [],
   "execution_count": 7
  },
  {
   "metadata": {
    "ExecuteTime": {
     "end_time": "2025-07-05T23:23:07.865601Z",
     "start_time": "2025-07-05T23:23:07.796024Z"
    }
   },
   "cell_type": "code",
   "source": [
    "from dotenv import load_dotenv\n",
    "\n",
    "load_dotenv()"
   ],
   "id": "596abdafa214b949",
   "outputs": [
    {
     "data": {
      "text/plain": [
       "True"
      ]
     },
     "execution_count": 4,
     "metadata": {},
     "output_type": "execute_result"
    }
   ],
   "execution_count": 4
  },
  {
   "metadata": {
    "ExecuteTime": {
     "end_time": "2025-07-06T01:20:20.798341Z",
     "start_time": "2025-07-06T01:20:20.615734Z"
    }
   },
   "cell_type": "code",
   "source": [
    "import pandas as pd\n",
    "\n",
    "mags = pd.read_csv(\"C:/Users/juniu/PycharmProjects/SubFinda_gradio/final_mags.csv\")\n",
    "mags[\"row_number\"] = mags[\"row_number\"].astype(\"Int64\")\n",
    "mags = mags.dropna(subset=[\"row_number\"])  # Drop rows with missing row_number\n",
    "mags[\"row_number\"] = mags[\"row_number\"].astype(int)"
   ],
   "id": "9148bd5dfd57bdb1",
   "outputs": [],
   "execution_count": 133
  },
  {
   "metadata": {
    "ExecuteTime": {
     "end_time": "2025-07-06T01:48:36.685739Z",
     "start_time": "2025-07-06T01:48:36.262875Z"
    }
   },
   "cell_type": "code",
   "source": [
    "import csv\n",
    "import re\n",
    "\n",
    "mags[\"tagged_description\"] = mags[\"row_number\"].astype(str) + \" \" + mags[\"description\"].fillna(\"\")\n",
    "mags[\"tagged_description\"].to_csv(\"tagged_description.txt\", index=False, header=False)\n"
   ],
   "id": "48be0e8917f85268",
   "outputs": [],
   "execution_count": 151
  },
  {
   "metadata": {
    "ExecuteTime": {
     "end_time": "2025-07-06T01:48:42.156855Z",
     "start_time": "2025-07-06T01:48:42.121235Z"
    }
   },
   "cell_type": "code",
   "source": "mags[\"tagged_description\"]",
   "id": "c89e767d64a1034e",
   "outputs": [
    {
     "data": {
      "text/plain": [
       "0     1 McSweeney?s is a nonprofit publishing compan...\n",
       "1     2 At The Yale Review, we believe in the power ...\n",
       "2     3 This magazine aims to merge the worlds of Ar...\n",
       "3     4 Taco Bell Quarterly seeks literary/creative ...\n",
       "4     5 We welcome all types of poetry (including, b...\n",
       "5     6 The Acentos Review shoots from the spring th...\n",
       "6     7 Aethlon: The Journal of Sport Literature is ...\n",
       "7     8 DIAGRAM is an online literary magazine found...\n",
       "8     9 We accept everything. Text-based. Visual. Te...\n",
       "9     10 We are on the lookout for contemporary lite...\n",
       "10    11 Action, Spectacle welcomes submissions via ...\n",
       "11    12 We appreciate good writing in any genre. We...\n",
       "12    13 ?Agapanthus? Amaryllidaceae agapanthus From...\n",
       "13    14 Our literary journal, ionosphere, focuses o...\n",
       "14    15 Simply put, Across the Margin is an online ...\n",
       "15    16 We take our name from the dotted line on a ...\n",
       "16    17 One day in the summer of 2013, three friend...\n",
       "17    19 AURORE is real, non-fiction erotica, writte...\n",
       "18    19 Based in Belfast, Northern Ireland, we are ...\n",
       "19    20 African Writer Magazine is a New Jersey-bas...\n",
       "20    21 We aim to publish poetry that adds value to...\n",
       "21    22 It is the editors? belief that American lit...\n",
       "22    23 Muzzle Magazine is an online literary magaz...\n",
       "23    24 The CryptoNaturalist podcast is a scripted,...\n",
       "24    25 The Belladonna is a comedy and satire site ...\n",
       "25    26 Messy Misfits Club zine is looking for stor...\n",
       "26    27 The South Carolina Review is reimagining th...\n",
       "27    28 Mission \\nOur longstanding mission is to se...\n",
       "28    29 Snowflake magazine is looking for submissio...\n",
       "29    30 Humana Obscura is an independent literary m...\n",
       "30    31 ANMLY is committed to actively seeking out ...\n",
       "31    32 The magazine was founded in 1889 by student...\n",
       "32    33 Founded in 1986, Hayden?s Ferry Review is a...\n",
       "33    34 Friends Publishing Corporation was founded ...\n",
       "34    35 Boston Review is a political and literary f...\n",
       "35    36 Apex Magazine is an online zine of fantasti...\n",
       "36    37 For over a decade, PseudoPod has been bring...\n",
       "37    38 The B?K is a quarterly art and lit, online ...\n",
       "38    39 For many years, The Puritan represented bot...\n",
       "39    40 The Good Life Review is an independently op...\n",
       "40    41 Umbrella Factory Magazine is a small press ...\n",
       "41    42 Torch Literary Arts started as a passion pr...\n",
       "42    43 Toronto Journal is a writing journal in pri...\n",
       "43    44 Pictura Journal seeks work that offers a vi...\n",
       "44    45 As an online press for dark literature, we ...\n",
       "45    46 Landfall contains literary fiction and essa...\n",
       "46    47 I launched On The Seawall in 2007 as a site...\n",
       "Name: tagged_description, dtype: object"
      ]
     },
     "execution_count": 152,
     "metadata": {},
     "output_type": "execute_result"
    }
   ],
   "execution_count": 152
  },
  {
   "metadata": {
    "ExecuteTime": {
     "end_time": "2025-07-06T01:48:45.791720Z",
     "start_time": "2025-07-06T01:48:45.705439Z"
    }
   },
   "cell_type": "code",
   "source": "print(mags[[\"row_number\", \"tagged_description\"]].head(10))",
   "id": "6853f661147fe654",
   "outputs": [
    {
     "name": "stdout",
     "output_type": "stream",
     "text": [
      "   row_number                                 tagged_description\n",
      "0           1  1 McSweeney?s is a nonprofit publishing compan...\n",
      "1           2  2 At The Yale Review, we believe in the power ...\n",
      "2           3  3 This magazine aims to merge the worlds of Ar...\n",
      "3           4  4 Taco Bell Quarterly seeks literary/creative ...\n",
      "4           5  5 We welcome all types of poetry (including, b...\n",
      "5           6  6 The Acentos Review shoots from the spring th...\n",
      "6           7  7 Aethlon: The Journal of Sport Literature is ...\n",
      "7           8  8 DIAGRAM is an online literary magazine found...\n",
      "8           9  9 We accept everything. Text-based. Visual. Te...\n",
      "9          10  10 We are on the lookout for contemporary lite...\n"
     ]
    }
   ],
   "execution_count": 153
  },
  {
   "metadata": {
    "ExecuteTime": {
     "end_time": "2025-07-06T01:48:48.858972Z",
     "start_time": "2025-07-06T01:48:48.699279Z"
    }
   },
   "cell_type": "code",
   "source": [
    "from langchain_community.document_loaders import TextLoader\n",
    "from langchain_text_splitters import CharacterTextSplitter\n",
    "\n",
    "raw_documents = TextLoader(\"tagged_description.txt\", encoding=\"utf-8\").load()\n",
    "text_splitter = CharacterTextSplitter(chunk_size=0, chunk_overlap=0, separator=\"\\n\")\n",
    "documents = text_splitter.split_documents(raw_documents)"
   ],
   "id": "332181de7ceb275c",
   "outputs": [
    {
     "name": "stderr",
     "output_type": "stream",
     "text": [
      "Created a chunk of size 718, which is longer than the specified 0\n",
      "Created a chunk of size 1480, which is longer than the specified 0\n",
      "Created a chunk of size 783, which is longer than the specified 0\n",
      "Created a chunk of size 848, which is longer than the specified 0\n",
      "Created a chunk of size 263, which is longer than the specified 0\n",
      "Created a chunk of size 1051, which is longer than the specified 0\n",
      "Created a chunk of size 334, which is longer than the specified 0\n",
      "Created a chunk of size 652, which is longer than the specified 0\n",
      "Created a chunk of size 132, which is longer than the specified 0\n",
      "Created a chunk of size 610, which is longer than the specified 0\n",
      "Created a chunk of size 543, which is longer than the specified 0\n",
      "Created a chunk of size 996, which is longer than the specified 0\n",
      "Created a chunk of size 846, which is longer than the specified 0\n",
      "Created a chunk of size 367, which is longer than the specified 0\n",
      "Created a chunk of size 314, which is longer than the specified 0\n",
      "Created a chunk of size 1000, which is longer than the specified 0\n",
      "Created a chunk of size 635, which is longer than the specified 0\n",
      "Created a chunk of size 175, which is longer than the specified 0\n",
      "Created a chunk of size 388, which is longer than the specified 0\n",
      "Created a chunk of size 363, which is longer than the specified 0\n",
      "Created a chunk of size 569, which is longer than the specified 0\n",
      "Created a chunk of size 254, which is longer than the specified 0\n",
      "Created a chunk of size 661, which is longer than the specified 0\n",
      "Created a chunk of size 173, which is longer than the specified 0\n",
      "Created a chunk of size 162, which is longer than the specified 0\n",
      "Created a chunk of size 229, which is longer than the specified 0\n",
      "Created a chunk of size 222, which is longer than the specified 0\n",
      "Created a chunk of size 396, which is longer than the specified 0\n",
      "Created a chunk of size 302, which is longer than the specified 0\n",
      "Created a chunk of size 334, which is longer than the specified 0\n",
      "Created a chunk of size 668, which is longer than the specified 0\n",
      "Created a chunk of size 967, which is longer than the specified 0\n",
      "Created a chunk of size 12, which is longer than the specified 0\n",
      "Created a chunk of size 432, which is longer than the specified 0\n",
      "Created a chunk of size 1487, which is longer than the specified 0\n",
      "Created a chunk of size 470, which is longer than the specified 0\n",
      "Created a chunk of size 725, which is longer than the specified 0\n",
      "Created a chunk of size 680, which is longer than the specified 0\n",
      "Created a chunk of size 856, which is longer than the specified 0\n",
      "Created a chunk of size 848, which is longer than the specified 0\n",
      "Created a chunk of size 606, which is longer than the specified 0\n",
      "Created a chunk of size 979, which is longer than the specified 0\n",
      "Created a chunk of size 550, which is longer than the specified 0\n",
      "Created a chunk of size 925, which is longer than the specified 0\n",
      "Created a chunk of size 135, which is longer than the specified 0\n",
      "Created a chunk of size 752, which is longer than the specified 0\n",
      "Created a chunk of size 539, which is longer than the specified 0\n",
      "Created a chunk of size 370, which is longer than the specified 0\n",
      "Created a chunk of size 700, which is longer than the specified 0\n",
      "Created a chunk of size 996, which is longer than the specified 0\n",
      "Created a chunk of size 156, which is longer than the specified 0\n",
      "Created a chunk of size 469, which is longer than the specified 0\n",
      "Created a chunk of size 434, which is longer than the specified 0\n"
     ]
    }
   ],
   "execution_count": 154
  },
  {
   "metadata": {
    "ExecuteTime": {
     "end_time": "2025-07-06T01:48:52.270704Z",
     "start_time": "2025-07-06T01:48:52.258792Z"
    }
   },
   "cell_type": "code",
   "source": "documents[0]",
   "id": "f15837a08cf0d566",
   "outputs": [
    {
     "data": {
      "text/plain": [
       "Document(metadata={'source': 'tagged_description.txt'}, page_content='\"1 McSweeney?s is a nonprofit publishing company based in San Francisco. As well as operating a daily humor website, we also publish Timothy McSweeney?s Quarterly Concern, Illustoria Magazine, and an ever-growing selection of books under various imprints. You can buy all of these things from our online store. You can support us today by making a donation.McSweeney?s exists to champion ambitious and inspired new writing, and to challenge conventional expectations about where it?s found, how it looks, and who participates.We?re here to discover things we love, help them find their most resplendent form, and imagine new ways to bring them to you, Dennis. (If you are not Dennis, kindly ignore the aforementioned.\"')"
      ]
     },
     "execution_count": 155,
     "metadata": {},
     "output_type": "execute_result"
    }
   ],
   "execution_count": 155
  },
  {
   "metadata": {
    "ExecuteTime": {
     "end_time": "2025-07-06T01:50:32.915421Z",
     "start_time": "2025-07-06T01:50:31.092434Z"
    }
   },
   "cell_type": "code",
   "source": [
    "from langchain_openai import OpenAIEmbeddings\n",
    "import os\n",
    "from dotenv import load_dotenv\n",
    "\n",
    "load_dotenv()\n",
    "\n",
    "embedding = OpenAIEmbeddings(api_key=os.getenv(\"OPENAI_API_KEY\"))\n",
    "db_mags = Chroma.from_documents(documents, embedding=embedding)\n"
   ],
   "id": "a4fbe3bec0019213",
   "outputs": [],
   "execution_count": 160
  },
  {
   "metadata": {
    "ExecuteTime": {
     "end_time": "2025-07-06T01:50:49.068233Z",
     "start_time": "2025-07-06T01:50:38.695861Z"
    }
   },
   "cell_type": "code",
   "source": [
    "from openai import OpenAI\n",
    "from langchain_chroma import Chroma\n",
    "from langchain_core.embeddings import Embeddings\n",
    "import numpy as np\n",
    "\n",
    "# Your OpenAI client with project ID\n",
    "client = OpenAI(\n",
    "    api_key=\"\",\n",
    "    project=\"\"\n",
    ")\n",
    "\n",
    "# Custom wrapper (simplified)\n",
    "class MyOpenAIEmbedding(Embeddings):\n",
    "    def embed_documents(self, texts):\n",
    "        return [client.embeddings.create(input=t, model=\"text-embedding-3-small\").data[0].embedding for t in texts]\n",
    "\n",
    "    def embed_query(self, text):\n",
    "        return client.embeddings.create(input=text, model=\"text-embedding-3-small\").data[0].embedding\n",
    "\n",
    "# Then pass this into Chroma\n",
    "embedding = MyOpenAIEmbedding()\n",
    "db = Chroma.from_documents(documents, embedding=embedding)\n"
   ],
   "id": "32336ee11e8668a4",
   "outputs": [],
   "execution_count": 161
  },
  {
   "metadata": {
    "ExecuteTime": {
     "end_time": "2025-07-06T01:49:10.768986Z",
     "start_time": "2025-07-06T01:49:10.485504Z"
    }
   },
   "cell_type": "code",
   "source": [
    "query = (\"a magazine to submit horror focused work to\")\n",
    "docs = db.similarity_search(query, k = 16)\n",
    "docs"
   ],
   "id": "51b40b32ba34c56e",
   "outputs": [
    {
     "data": {
      "text/plain": [
       "[Document(id='4d9e583f-8d3d-499c-b8f9-f87b0f01ca35', metadata={'source': 'tagged_description.txt'}, page_content='45As an online press for dark literature, we publish our nonprofit magazine issues annually on All Hallows? Eve (Oct 31st). We also accept submissions for publication on our website under Dark Reads. There?s no theme for these submissions, however we are always interested in horror and dark fiction surrounding the thinning of the veil. Give us ghosts, ghouls, and small town cryptids. Unleash something ancient from the abandoned crypt and make us wish you hadn?t.'),\n",
       " Document(id='b4b3d83e-5e3e-49ff-ac59-9e3d88e9ad9b', metadata={'source': 'tagged_description.txt'}, page_content='\"0045As an online press for dark literature, we publish our nonprofit magazine issues annually on All Hallows? Eve (Oct 31st). We also accept submissions for publication on our website under Dark Reads. There?s no theme for these submissions, however we are always interested in horror and dark fiction surrounding the thinning of the veil. Give us ghosts, ghouls, and small town cryptids. Unleash something ancient from the abandoned crypt and make us wish you hadn?t.\"'),\n",
       " Document(id='8b05cc27-9da2-45d9-8665-9af1fba9ed9e', metadata={'source': 'tagged_description.txt'}, page_content='\"45 As an online press for dark literature, we publish our nonprofit magazine issues annually on All Hallows? Eve (Oct 31st). We also accept submissions for publication on our website under Dark Reads. There?s no theme for these submissions, however we are always interested in horror and dark fiction surrounding the thinning of the veil. Give us ghosts, ghouls, and small town cryptids. Unleash something ancient from the abandoned crypt and make us wish you hadn?t.\"'),\n",
       " Document(id='1fc029f4-4c91-4724-a2c4-f7b8425541a7', metadata={'source': 'tagged_description.txt'}, page_content='\"0037For over a decade, PseudoPod has been bringing you the best short horror in audio form, to take with you anywhere. We pay our authors professional rates for original fiction and we reach more people every week than any other short fiction horror market. PseudoPod is a genre magazine in audio form. We?re looking for horror: dark, weird fiction. We run the spectrum from grim realism or crime drama, to magic-realism, to blatantly supernatural dark fantasy. We publish highly literary stories reminiscent of Poe or Lovecraft as well as vulgar shock-value pulp fiction. We don?t split hairs about genre definitions, and we do not observe any taboos about what kind of content can appear in our stories. Originality demands that you?re better off avoiding vampires, zombies, and other recognizable horror tropes unless you have put a very unique spin on them. What matters most is that the stories are dark and compelling.\"'),\n",
       " Document(id='864f5363-dc68-4f40-ad18-837c03fce95a', metadata={'source': 'tagged_description.txt'}, page_content='\"37 For over a decade, PseudoPod has been bringing you the best short horror in audio form, to take with you anywhere. We pay our authors professional rates for original fiction and we reach more people every week than any other short fiction horror market. PseudoPod is a genre magazine in audio form. We?re looking for horror: dark, weird fiction. We run the spectrum from grim realism or crime drama, to magic-realism, to blatantly supernatural dark fantasy. We publish highly literary stories reminiscent of Poe or Lovecraft as well as vulgar shock-value pulp fiction. We don?t split hairs about genre definitions, and we do not observe any taboos about what kind of content can appear in our stories. Originality demands that you?re better off avoiding vampires, zombies, and other recognizable horror tropes unless you have put a very unique spin on them. What matters most is that the stories are dark and compelling.\"'),\n",
       " Document(id='fe08f414-33ee-465e-99df-97b86ed0872f', metadata={'source': 'tagged_description.txt'}, page_content='37For over a decade, PseudoPod has been bringing you the best short horror in audio form, to take with you anywhere. We pay our authors professional rates for original fiction and we reach more people every week than any other short fiction horror market. PseudoPod is a genre magazine in audio form. We?re looking for horror: dark, weird fiction. We run the spectrum from grim realism or crime drama, to magic-realism, to blatantly supernatural dark fantasy. We publish highly literary stories reminiscent of Poe or Lovecraft as well as vulgar shock-value pulp fiction. We don?t split hairs about genre definitions, and we do not observe any taboos about what kind of content can appear in our stories. Originality demands that you?re better off avoiding vampires, zombies, and other recognizable horror tropes unless you have put a very unique spin on them. What matters most is that the stories are dark and compelling.'),\n",
       " Document(id='87791903-ed09-45a1-8fea-2a544edd34b7', metadata={'source': 'tagged_description.txt'}, page_content='3This magazine aims to merge the worlds of Art & Literature in a way that the combinations inspire the reader in a plethora of ways, following the threads of synergy that these two worlds create.Suburban Witchcraft? as a fusion of words, is aching to represent the sentiment of the magic of strangeness, otherness and the ever-blooming urge to create, despite circumstances, the expectations and poured-over concrete. When creating the magazine, the name was derived from a photography project and the notion that in the suburbs, the veils between creatures, souls and liminal spaces are the most blurred, and how in the world of today that plagues us with various disdain, rebelling against and despite its darkness with love, compassion and humanity often feels like witchcraft.'),\n",
       " Document(id='4be8335f-dd5a-48ca-93ba-7a785ebd927c', metadata={'source': 'tagged_description.txt'}, page_content='\"0003This magazine aims to merge the worlds of Art & Literature in a way that the combinations inspire the reader in a plethora of ways, following the threads of synergy that these two worlds create.Suburban Witchcraft? as a fusion of words, is aching to represent the sentiment of the magic of strangeness, otherness and the ever-blooming urge to create, despite circumstances, the expectations and poured-over concrete. When creating the magazine, the name was derived from a photography project and the notion that in the suburbs, the veils between creatures, souls and liminal spaces are the most blurred, and how in the world of today that plagues us with various disdain, rebelling against and despite its darkness with love, compassion and humanity often feels like witchcraft.\"'),\n",
       " Document(id='165a07cb-7590-4baa-ad6b-fdf36f871f65', metadata={'source': 'tagged_description.txt'}, page_content='\"3 This magazine aims to merge the worlds of Art & Literature in a way that the combinations inspire the reader in a plethora of ways, following the threads of synergy that these two worlds create.Suburban Witchcraft? as a fusion of words, is aching to represent the sentiment of the magic of strangeness, otherness and the ever-blooming urge to create, despite circumstances, the expectations and poured-over concrete. When creating the magazine, the name was derived from a photography project and the notion that in the suburbs, the veils between creatures, souls and liminal spaces are the most blurred, and how in the world of today that plagues us with various disdain, rebelling against and despite its darkness with love, compassion and humanity often feels like witchcraft.\"'),\n",
       " Document(id='ff300dbe-410f-4818-804a-19f43aa13f4c', metadata={'source': 'tagged_description.txt'}, page_content='\"11 Action, Spectacle welcomes submissions via Submittable year-round, in English and previously unpublished. Simultaneous and unsolicited submissions are encouraged as long as we are notified immediately if the manuscript is accepted for publication elsewhere. ?We employ the broadest possible aesthetic when we read. We encourage submissions of work that is more traditional or explicitly experimental, linear or non-linear, concrete or abstract, narrative or gestural, concerned with the natural world, the self, urban spaces, history, &c.\"'),\n",
       " Document(id='cbed86a2-15b3-400f-b9e6-0176d40dbdcb', metadata={'source': 'tagged_description.txt'}, page_content='\"0036Apex Magazine is an online zine of fantastical fiction. We publish short stories filled with marrow and passion, works that are twisted, strange, and beautiful. Creations where secret places and dreams are put on display. We publish in two forms: an every-other-month eBook issue and a gradual release of an entire issue online over a two month period. Along with the genre short fiction, there are interviews with authors and nonfiction essays about current issues. Additionally, we produce a monthly podcast of narrated original short fiction.\"'),\n",
       " Document(id='6f7d6f97-aca9-4aaa-9338-1eacd43c1a8b', metadata={'source': 'tagged_description.txt'}, page_content='\"0029Snowflake magazine is looking for submissions of art, poetry, essays, flash fiction, photography, interviews and articles from self-identifying queer creators. We are happy to consider pieces that transcend or do not fit these mediums. Being queer already often sits outside the norm, so we encourage your pieces to do the same - really think outside the box!The submission itself should either be queer themed or from an artist who identifies as LGBTQ+ (or both!).\"'),\n",
       " Document(id='19136c86-d701-4267-9f37-a6919b4a9b5b', metadata={'source': 'tagged_description.txt'}, page_content='\"0011Action, Spectacle welcomes submissions via Submittable year-round, in English and previously unpublished. Simultaneous and unsolicited submissions are encouraged as long as we are notified immediately if the manuscript is accepted for publication elsewhere. ?We employ the broadest possible aesthetic when we read. We encourage submissions of work that is more traditional or explicitly experimental, linear or non-linear, concrete or abstract, narrative or gestural, concerned with the natural world, the self, urban spaces, history, &c.\"'),\n",
       " Document(id='a37556b0-9364-4c9f-b244-4b4ca9c9ef20', metadata={'source': 'tagged_description.txt'}, page_content='14Our literary journal, ionosphere, focuses on the relationship between science, technology, and the human experience. We welcome submissions in a variety of styles and forms, from traditional to experimental, and are encouraging submissions from writers of all backgrounds. If you have work that fits these themes, we encourage you to submit it for consideration.'),\n",
       " Document(id='14f5c2d4-fabd-42d9-bf2d-c01803aebd15', metadata={'source': 'tagged_description.txt'}, page_content='\"14 Our literary journal, ionosphere, focuses on the relationship between science, technology, and the human experience. We welcome submissions in a variety of styles and forms, from traditional to experimental, and are encouraging submissions from writers of all backgrounds. If you have work that fits these themes, we encourage you to submit it for consideration.\"'),\n",
       " Document(id='6c74435c-0346-4db2-8660-39aa4dffe501', metadata={'source': 'tagged_description.txt'}, page_content='11Action, Spectacle welcomes submissions via Submittable year-round, in English and previously unpublished. Simultaneous and unsolicited submissions are encouraged as long as we are notified immediately if the manuscript is accepted for publication elsewhere. ?We employ the broadest possible aesthetic when we read. We encourage submissions of work that is more traditional or explicitly experimental, linear or non-linear, concrete or abstract, narrative or gestural, concerned with the natural world, the self, urban spaces, history, &c.')]"
      ]
     },
     "execution_count": 158,
     "metadata": {},
     "output_type": "execute_result"
    }
   ],
   "execution_count": 158
  },
  {
   "metadata": {
    "ExecuteTime": {
     "end_time": "2025-07-06T01:49:29.717602Z",
     "start_time": "2025-07-06T01:49:29.703920Z"
    }
   },
   "cell_type": "code",
   "source": [
    "def retrieve_semantic_recommendations(query: str, top_k: int = 16) -> pd.DataFrame:\n",
    "    docs = db.similarity_search(query, k=top_k)\n",
    "    row_ids = []\n",
    "\n",
    "    for doc in docs:\n",
    "        match = re.match(r'^(\\d+)', doc.page_content.strip())\n",
    "        if match:\n",
    "            row_ids.append(int(match.group(1)))\n",
    "\n",
    "    # Maintain the ranking order by reconstructing the DataFrame\n",
    "    ranked_matches = [mags[mags[\"row_number\"] == rid] for rid in row_ids]\n",
    "    return pd.concat(ranked_matches).head(top_k)\n"
   ],
   "id": "e6c3071514256c49",
   "outputs": [],
   "execution_count": 159
  },
  {
   "metadata": {
    "ExecuteTime": {
     "end_time": "2025-07-06T01:21:50.612752Z",
     "start_time": "2025-07-06T01:21:50.417579Z"
    }
   },
   "cell_type": "code",
   "source": "retrieve_semantic_recommendations(\"a magazine to submit horro focused work to\")",
   "id": "7c5d47e55ca4815f",
   "outputs": [
    {
     "data": {
      "text/plain": [
       "    row_number                   market_name  \\\n",
       "44          45               Thin Veil Press   \n",
       "36          37                     Pseudopod   \n",
       "2            3  Suburban Witchcraft Magazine   \n",
       "13          14                    Ionosphere   \n",
       "28          29            Snowflake Magazine   \n",
       "35          36                 Apex Magazine   \n",
       "29          30                Humana Obscura   \n",
       "\n",
       "                                             genres response_time  \\\n",
       "44                                  Fiction, Poetry       56 days   \n",
       "36                                          Fiction       58 days   \n",
       "2   Fiction, Nonfiction, Poetry, Hybrid, Multimedia       11 days   \n",
       "13                              Nonfiction, Poettry       76 days   \n",
       "28  Nonfiction, Hybrid, Multimedia, Fiction, Poetry       40 days   \n",
       "35                                          Fiction       34 days   \n",
       "29                      Poetry, Multimedia, Fiction       58 days   \n",
       "\n",
       "                                     url of thumbnail acceptance rate  \\\n",
       "44  https://www.chillsubs.com/_next/image?url=http...          20.97%   \n",
       "36  https://cdn.duotrope.com/covers/1276-250303221...           2.65%   \n",
       "2   https://www.chillsubs.com/_next/image?url=http...          96.72%   \n",
       "13  https://www.chillsubs.com/_next/image?url=http...          72.73%   \n",
       "28  https://www.chillsubs.com/_next/image?url=http...          80.00%   \n",
       "35  https://www.chillsubs.com/_next/image?url=http...           0.81%   \n",
       "29  https://cdn.duotrope.com/covers/31086-25060604...          15.58%   \n",
       "\n",
       "   followers  founded         country  \\\n",
       "44       100   2023.0  United Kingdom   \n",
       "36     6,000   2006.0   united States   \n",
       "2      1,000   2022.0          Serbia   \n",
       "13       200   2023.0  United kingdom   \n",
       "28     2,000   2021.0  United Kingdom   \n",
       "35    35,000   2005.0   United States   \n",
       "29     4,000   2020.0   United States   \n",
       "\n",
       "                                          description  \\\n",
       "44  As an online press for dark literature, we pub...   \n",
       "36  For over a decade, PseudoPod has been bringing...   \n",
       "2   This magazine aims to merge the worlds of Art ...   \n",
       "13  Our literary journal, ionosphere, focuses on t...   \n",
       "28  Snowflake magazine is looking for submissions ...   \n",
       "35  Apex Magazine is an online zine of fantastical...   \n",
       "29  Humana Obscura is an independent literary maga...   \n",
       "\n",
       "                                submission_guidelines  \\\n",
       "44                 https://thinveilpress.co.uk/submit   \n",
       "36                 https://pseudopod.org/submissions/   \n",
       "2   https://suburbanwitchcraftmagazine.wordpress.c...   \n",
       "13     https://ampliconpress.com/submit-to-ionosphere   \n",
       "28            https://www.snowflakeculture.com/submit   \n",
       "35  https://www.apexbookcompany.com/a/blog/apex-ma...   \n",
       "29               https://www.humanaobscura.com/submit   \n",
       "\n",
       "                                   tagged_description  \n",
       "44  45 As an online press for dark literature, we ...  \n",
       "36  37 For over a decade, PseudoPod has been bring...  \n",
       "2   3 This magazine aims to merge the worlds of Ar...  \n",
       "13  14 Our literary journal, ionosphere, focuses o...  \n",
       "28  29 Snowflake magazine is looking for submissio...  \n",
       "35  36 Apex Magazine is an online zine of fantasti...  \n",
       "29  30 Humana Obscura is an independent literary m...  "
      ],
      "text/html": [
       "<div>\n",
       "<style scoped>\n",
       "    .dataframe tbody tr th:only-of-type {\n",
       "        vertical-align: middle;\n",
       "    }\n",
       "\n",
       "    .dataframe tbody tr th {\n",
       "        vertical-align: top;\n",
       "    }\n",
       "\n",
       "    .dataframe thead th {\n",
       "        text-align: right;\n",
       "    }\n",
       "</style>\n",
       "<table border=\"1\" class=\"dataframe\">\n",
       "  <thead>\n",
       "    <tr style=\"text-align: right;\">\n",
       "      <th></th>\n",
       "      <th>row_number</th>\n",
       "      <th>market_name</th>\n",
       "      <th>genres</th>\n",
       "      <th>response_time</th>\n",
       "      <th>url of thumbnail</th>\n",
       "      <th>acceptance rate</th>\n",
       "      <th>followers</th>\n",
       "      <th>founded</th>\n",
       "      <th>country</th>\n",
       "      <th>description</th>\n",
       "      <th>submission_guidelines</th>\n",
       "      <th>tagged_description</th>\n",
       "    </tr>\n",
       "  </thead>\n",
       "  <tbody>\n",
       "    <tr>\n",
       "      <th>44</th>\n",
       "      <td>45</td>\n",
       "      <td>Thin Veil Press</td>\n",
       "      <td>Fiction, Poetry</td>\n",
       "      <td>56 days</td>\n",
       "      <td>https://www.chillsubs.com/_next/image?url=http...</td>\n",
       "      <td>20.97%</td>\n",
       "      <td>100</td>\n",
       "      <td>2023.0</td>\n",
       "      <td>United Kingdom</td>\n",
       "      <td>As an online press for dark literature, we pub...</td>\n",
       "      <td>https://thinveilpress.co.uk/submit</td>\n",
       "      <td>45 As an online press for dark literature, we ...</td>\n",
       "    </tr>\n",
       "    <tr>\n",
       "      <th>36</th>\n",
       "      <td>37</td>\n",
       "      <td>Pseudopod</td>\n",
       "      <td>Fiction</td>\n",
       "      <td>58 days</td>\n",
       "      <td>https://cdn.duotrope.com/covers/1276-250303221...</td>\n",
       "      <td>2.65%</td>\n",
       "      <td>6,000</td>\n",
       "      <td>2006.0</td>\n",
       "      <td>united States</td>\n",
       "      <td>For over a decade, PseudoPod has been bringing...</td>\n",
       "      <td>https://pseudopod.org/submissions/</td>\n",
       "      <td>37 For over a decade, PseudoPod has been bring...</td>\n",
       "    </tr>\n",
       "    <tr>\n",
       "      <th>2</th>\n",
       "      <td>3</td>\n",
       "      <td>Suburban Witchcraft Magazine</td>\n",
       "      <td>Fiction, Nonfiction, Poetry, Hybrid, Multimedia</td>\n",
       "      <td>11 days</td>\n",
       "      <td>https://www.chillsubs.com/_next/image?url=http...</td>\n",
       "      <td>96.72%</td>\n",
       "      <td>1,000</td>\n",
       "      <td>2022.0</td>\n",
       "      <td>Serbia</td>\n",
       "      <td>This magazine aims to merge the worlds of Art ...</td>\n",
       "      <td>https://suburbanwitchcraftmagazine.wordpress.c...</td>\n",
       "      <td>3 This magazine aims to merge the worlds of Ar...</td>\n",
       "    </tr>\n",
       "    <tr>\n",
       "      <th>13</th>\n",
       "      <td>14</td>\n",
       "      <td>Ionosphere</td>\n",
       "      <td>Nonfiction, Poettry</td>\n",
       "      <td>76 days</td>\n",
       "      <td>https://www.chillsubs.com/_next/image?url=http...</td>\n",
       "      <td>72.73%</td>\n",
       "      <td>200</td>\n",
       "      <td>2023.0</td>\n",
       "      <td>United kingdom</td>\n",
       "      <td>Our literary journal, ionosphere, focuses on t...</td>\n",
       "      <td>https://ampliconpress.com/submit-to-ionosphere</td>\n",
       "      <td>14 Our literary journal, ionosphere, focuses o...</td>\n",
       "    </tr>\n",
       "    <tr>\n",
       "      <th>28</th>\n",
       "      <td>29</td>\n",
       "      <td>Snowflake Magazine</td>\n",
       "      <td>Nonfiction, Hybrid, Multimedia, Fiction, Poetry</td>\n",
       "      <td>40 days</td>\n",
       "      <td>https://www.chillsubs.com/_next/image?url=http...</td>\n",
       "      <td>80.00%</td>\n",
       "      <td>2,000</td>\n",
       "      <td>2021.0</td>\n",
       "      <td>United Kingdom</td>\n",
       "      <td>Snowflake magazine is looking for submissions ...</td>\n",
       "      <td>https://www.snowflakeculture.com/submit</td>\n",
       "      <td>29 Snowflake magazine is looking for submissio...</td>\n",
       "    </tr>\n",
       "    <tr>\n",
       "      <th>35</th>\n",
       "      <td>36</td>\n",
       "      <td>Apex Magazine</td>\n",
       "      <td>Fiction</td>\n",
       "      <td>34 days</td>\n",
       "      <td>https://www.chillsubs.com/_next/image?url=http...</td>\n",
       "      <td>0.81%</td>\n",
       "      <td>35,000</td>\n",
       "      <td>2005.0</td>\n",
       "      <td>United States</td>\n",
       "      <td>Apex Magazine is an online zine of fantastical...</td>\n",
       "      <td>https://www.apexbookcompany.com/a/blog/apex-ma...</td>\n",
       "      <td>36 Apex Magazine is an online zine of fantasti...</td>\n",
       "    </tr>\n",
       "    <tr>\n",
       "      <th>29</th>\n",
       "      <td>30</td>\n",
       "      <td>Humana Obscura</td>\n",
       "      <td>Poetry, Multimedia, Fiction</td>\n",
       "      <td>58 days</td>\n",
       "      <td>https://cdn.duotrope.com/covers/31086-25060604...</td>\n",
       "      <td>15.58%</td>\n",
       "      <td>4,000</td>\n",
       "      <td>2020.0</td>\n",
       "      <td>United States</td>\n",
       "      <td>Humana Obscura is an independent literary maga...</td>\n",
       "      <td>https://www.humanaobscura.com/submit</td>\n",
       "      <td>30 Humana Obscura is an independent literary m...</td>\n",
       "    </tr>\n",
       "  </tbody>\n",
       "</table>\n",
       "</div>"
      ]
     },
     "execution_count": 140,
     "metadata": {},
     "output_type": "execute_result"
    }
   ],
   "execution_count": 140
  }
 ],
 "metadata": {
  "kernelspec": {
   "display_name": "Python 3",
   "language": "python",
   "name": "python3"
  },
  "language_info": {
   "codemirror_mode": {
    "name": "ipython",
    "version": 2
   },
   "file_extension": ".py",
   "mimetype": "text/x-python",
   "name": "python",
   "nbconvert_exporter": "python",
   "pygments_lexer": "ipython2",
   "version": "2.7.6"
  }
 },
 "nbformat": 4,
 "nbformat_minor": 5
}
